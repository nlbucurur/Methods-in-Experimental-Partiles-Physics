{
 "cells": [
  {
   "cell_type": "markdown",
   "metadata": {},
   "source": [
    "# Homework 4\n",
    "\n",
    "Apply a sequence of cuts to the data to identify the decay $K_S \\rightarrow \\pi^0 \\pi^0$:\n",
    "* Evaluate the number $N(K_S \\rightarrow \\pi^0 \\pi^0)$ of signal events after the sequence.\n",
    "* Provide a table with the cutflow: List of each cut and the number of candidate events surviving after each cut.\n",
    "\n",
    "Apply a sequence of cuts to the data to identify the decay $K_S \\rightarrow \\pi^+ \\pi^-$:\n",
    "* Evaluate the number $N(K_S \\rightarrow \\pi^+ \\pi^-)$ of signal events after the sequence.\n",
    "* Provide a table with the cutflow: List of each cut and the number of candidate events surviving after each cut.\n",
    "\n",
    "Evaluate the ratio $$\\frac{N(K_S \\rightarrow \\pi^+ \\pi^-)}{N(K_S \\rightarrow \\pi^0 \\pi^0)}$$"
   ]
  },
  {
   "cell_type": "markdown",
   "metadata": {},
   "source": [
    "## Data\n",
    "\n",
    "The data will be acquired, and the data from each event will be grouped into arrays, which will then be stored in an array of arrays."
   ]
  },
  {
   "cell_type": "code",
   "execution_count": 2,
   "metadata": {},
   "outputs": [],
   "source": [
    "# Libraries\n",
    "import numpy as np  "
   ]
  },
  {
   "cell_type": "code",
   "execution_count": 3,
   "metadata": {},
   "outputs": [
    {
     "name": "stdout",
     "output_type": "stream",
     "text": [
      "The total number of events is:  254327\n"
     ]
    }
   ],
   "source": [
    "def process_dat(data):\n",
    "    \n",
    "    events = []  # List to store matrices\n",
    "    current_event = []  # Current event being constructed\n",
    "\n",
    "    \n",
    "    with open(data, 'r') as data:\n",
    "        for line in data:\n",
    "            # Split line and convert values to numbers\n",
    "            values = line.split()\n",
    "            if len(values) < 1:  # Skip empty lines\n",
    "                continue\n",
    "            \n",
    "            values = [float(val) for i, val in enumerate(values)]\n",
    "            \n",
    "            # Check if the first column contains zero\n",
    "            if values[0] == 0:\n",
    "                if current_event:\n",
    "                    events.append(np.array(current_event))  # Save current matrix\n",
    "                current_event = []  # Start a new matrix    \n",
    "            current_event.append(values)  # Append the entire line\n",
    "            \n",
    "        # Add the last matrix\n",
    "        if current_event:\n",
    "            events.append(np.array(current_event))\n",
    "    \n",
    "    return events\n",
    "\n",
    "# Example usage:\n",
    "data = 'kloe.dat'\n",
    "events = process_dat(data)\n",
    "\n",
    "print(\"The total number of events is: \", len(events))\n",
    "\n",
    "# # Access the events:\n",
    "# for idx, event in enumerate(events):\n",
    "#     print(f\"Matrix {idx+1}:\")\n",
    "#     print(event)"
   ]
  },
  {
   "cell_type": "code",
   "execution_count": 4,
   "metadata": {},
   "outputs": [],
   "source": [
    "def energy_resolution(E):\n",
    "    \"\"\"\n",
    "    Calculate energy resolution with cluster energy [MeV].\n",
    "\n",
    "    Args:\n",
    "        E (float): Energy [MeV].\n",
    "    Returns:\n",
    "        float: Energy resolution.\n",
    "    \"\"\"\n",
    "    E = E*10**(-3)\n",
    "    return 0.057*np.sqrt(E)\n",
    "\n",
    "def time_resolution(E):\n",
    "    \"\"\"\n",
    "    Calculate time resolution with cluster energy [MeV].\n",
    "\n",
    "    Args:\n",
    "        E (float): Energy [MeV].\n",
    "    Returns:\n",
    "        float: Time resolution [s].\n",
    "    \"\"\"\n",
    "    return (np.sqrt((54 / np.sqrt(E*10**(-3)))**2 + 100**2))*10**(-12)  # Total time resolution in s\n"
   ]
  },
  {
   "cell_type": "markdown",
   "metadata": {},
   "source": [
    "The total number of events before cuts is $254327$\n",
    "\n",
    "## $K_S \\rightarrow \\pi^0 \\pi^0$\n",
    "\n",
    "The cuts to be made in this selection will be\n",
    "\n",
    "* **Clusters:** Events with at least 5 clusters, $4 \\gamma$, and $1 K_L$ are selected.\n",
    "* **Energy:** The energy of the clusters in the calorimeter must be $20\\text{ MeV} < E_{cl} < 300 \\text{ MeV}$\n",
    "* **Polar angle:** The polar angle should be $\\theta = \\arccos{\\frac{z}{R}} > 21 \\degree$, with $R = \\sqrt{x^2 + y^2 + z^2}$\n",
    "* **Photons:** Selection of events with at least $4$ photons, which is ensured by the following condition.\n",
    "  $$\n",
    "    t_{\\text{cluster}} - \\frac{d_{\\text{cluster}}}{c} \\approx 0\n",
    "  $$\n",
    "  $t_{\\text{cluster}}$ is the cluster time, $d_{\\text{cluster}}$ is the cluster's distance from the interaction point and $c$ is the speed of light.\n",
    "* **$K_L$ Crash:** Identification of a cluster with energy $E > 150$ MeV, such that,\n",
    "  $$\n",
    "    t_{\\text{cluster}} - \\frac{d_{\\text{cluster}}}{\\beta_{K_L}} \\approx 0\n",
    "  $$\n",
    "  with\n",
    "  $$\n",
    "    \\beta_{K_L} = \\frac{p_{K_L}}{E_{\\text{cluster}}}c\n",
    "  $$\n",
    "\n",
    "  $$\n",
    "    \\beta_{K_L} \\approx \\frac{1}{5} p_{\\phi}\n",
    "  $$\n",
    "\n"
   ]
  },
  {
   "cell_type": "code",
   "execution_count": 5,
   "metadata": {},
   "outputs": [
    {
     "name": "stdout",
     "output_type": "stream",
     "text": [
      "Number of surviving events: 168200\n"
     ]
    }
   ],
   "source": [
    "# Clusters cuts\n",
    "\n",
    "def clusters_cut(events):\n",
    "    cluster_cut = []\n",
    "    for event in events:\n",
    "        count = np.sum(event[:, 0] == 1)\n",
    "        if count >= 5:\n",
    "            cluster_cut.append(event)\n",
    "    return cluster_cut\n",
    "\n",
    "clust_cut = clusters_cut(events)\n",
    "\n",
    "print(f\"Number of surviving events: {len(clust_cut)}\")\n",
    "\n",
    "# # Access the surviving events:\n",
    "# for idx, event in enumerate(clust_cut):\n",
    "#     print(f\"Surviving Event {idx+1}:\")\n",
    "#     print(event)"
   ]
  },
  {
   "cell_type": "code",
   "execution_count": 6,
   "metadata": {},
   "outputs": [],
   "source": [
    "# # Energy cut\n",
    "\n",
    "# def energy_cut(events):\n",
    "\n",
    "#     energy_events = []\n",
    "#     for event in events:\n",
    "#         count = 0\n",
    "#         for row in event:\n",
    "#             if row[0] == 1 and (20 - energy_resolution(row[6])) <= row[6] <= (300 + energy_resolution(row[6])):\n",
    "#                 count += 1\n",
    "#         if count >= 5:\n",
    "#             energy_events.append(event)\n",
    "#     return energy_events\n",
    "\n",
    "# cut_energy = energy_cut(clust_cut)\n",
    "\n",
    "# # Print and save surviving matrices\n",
    "# num_energy_cut = len(cut_energy)\n",
    "# print(f\"Number of events survived after the energy cut: {num_energy_cut}\")"
   ]
  },
  {
   "cell_type": "code",
   "execution_count": 7,
   "metadata": {},
   "outputs": [
    {
     "name": "stdout",
     "output_type": "stream",
     "text": [
      "Number of events survived after the energy cut: 18135\n"
     ]
    }
   ],
   "source": [
    "# Energy cut\n",
    "\n",
    "def energy(events):\n",
    "\n",
    "    energy_events = []\n",
    "    for event in events:\n",
    "        valid_event = True\n",
    "        for row in event:\n",
    "            if row[0] == 1 and not (20 <= row[6] <= 300):\n",
    "                valid_event = False\n",
    "                break\n",
    "        if valid_event:\n",
    "            energy_events.append(event)\n",
    "    return energy_events\n",
    "\n",
    "cut_energy1 = energy(clust_cut)\n",
    "# cut_energy1 = energy(events)\n",
    "\n",
    "# Print and save surviving matrices\n",
    "num_energy_cut1 = len(cut_energy1)\n",
    "print(f\"Number of events survived after the energy cut: {num_energy_cut1}\")"
   ]
  },
  {
   "cell_type": "code",
   "execution_count": 8,
   "metadata": {},
   "outputs": [
    {
     "name": "stdout",
     "output_type": "stream",
     "text": [
      "Number of matrices left in polar_events: 16551\n"
     ]
    }
   ],
   "source": [
    "# Polar angle cut\n",
    "\n",
    "def polar_cut(events):\n",
    "    angle_treshold = 20\n",
    "    angle_resolution = 1\n",
    "    polar_events = []\n",
    "    for event in events:\n",
    "        count = 0\n",
    "        for row in event:\n",
    "            if row[0] == 1:\n",
    "                # Calculate magnitude R of cluster (x, y, z)\n",
    "                R = np.sqrt(row[2]**2 + row[3]**2 + row[4]**2)\n",
    "                # Calculate angle with z-axis in degrees\n",
    "                angle = np.degrees(np.arccos(np.abs(row[4] / R)))\n",
    "                if angle >= (angle_treshold - angle_resolution):\n",
    "                    count += 1\n",
    "        if count >= 5:\n",
    "            polar_events.append(event)\n",
    "    return polar_events\n",
    "\n",
    "# Filter polar events based on angle with z-axis condition\n",
    "polar_events = polar_cut(cut_energy1)\n",
    "\n",
    "# Print and save surviving matrices\n",
    "num_survived_polar_events = len(polar_events)\n",
    "print(f\"Number of matrices left in polar_events: {num_survived_polar_events}\")"
   ]
  },
  {
   "cell_type": "code",
   "execution_count": 9,
   "metadata": {},
   "outputs": [],
   "source": [
    "# # Polar angle cut\n",
    "\n",
    "# def polar_cut(events):\n",
    "#     angle_treshold = 20\n",
    "#     angle_resolution = 1\n",
    "#     polar_events = []\n",
    "#     for event in events:\n",
    "#         valid_event = True\n",
    "#         for row in event:\n",
    "#             if row[0] == 1:\n",
    "#                 # Calculate magnitude R of cluster (x, y, z)\n",
    "#                 R = np.sqrt(row[2]**2 + row[3]**2 + row[4]**2)\n",
    "#                 # Calculate angle with z-axis in degrees\n",
    "#                 angle = np.degrees(np.arccos(np.abs(row[4] / R)))\n",
    "#                 if angle <= (angle_treshold - angle_resolution):\n",
    "#                     valid_event = False\n",
    "#                     break\n",
    "#         if valid_event:\n",
    "#             polar_events.append(event)\n",
    "#     return polar_events\n",
    "\n",
    "# # Filter polar events based on angle with z-axis condition\n",
    "# polar_events = polar_cut(cut_energy1)\n",
    "\n",
    "# # Print and save surviving matrices\n",
    "# num_survived_polar_events = len(polar_events)\n",
    "# print(f\"Number of matrices left in polar_events: {num_survived_polar_events}\")"
   ]
  },
  {
   "cell_type": "code",
   "execution_count": 10,
   "metadata": {},
   "outputs": [
    {
     "name": "stdout",
     "output_type": "stream",
     "text": [
      "Number of events left in four_photons: 1781\n"
     ]
    }
   ],
   "source": [
    "# Photons cut\n",
    "\n",
    "def find_distance(point):\n",
    "    # Calculate Euclidean distance between cluster and ineraction point\n",
    "    return np.sqrt(np.sum((point) ** 2))\n",
    "\n",
    "def photons_cut(events):\n",
    "    photons = []\n",
    "    c = 29.9792458  # speed of light in cm/ns\n",
    "    for event in events:\n",
    "        clusters = []\n",
    "        for row in event:\n",
    "            if row[0] == 1:\n",
    "                clusters.append(row[2:7])  # Extract cluster coordinates, time, and energy\n",
    "\n",
    "        if len(clusters) < 4:\n",
    "            continue\n",
    "\n",
    "        # Calculate distances between origin and clusters\n",
    "        cluster_distances = [find_distance(cluster[:3]) for cluster in clusters]\n",
    "\n",
    "        # Check condition for at least 4 clusters\n",
    "        count = 0\n",
    "        for i, cluster_dist in enumerate(cluster_distances):\n",
    "            cluster_time = clusters[i][3]\n",
    "            cluster_energy = clusters[i][4]\n",
    "            delta_t = cluster_time - cluster_dist / c\n",
    "            # if -100 * time_resolution(cluster_energy) <= delta_t <= 100 * time_resolution(cluster_energy):\n",
    "            if 0 <= delta_t <= 0.9: # Time resolution 0.1 ns\n",
    "                count += 1\n",
    "\n",
    "        if count >= 4:\n",
    "            photons.append(event)\n",
    "\n",
    "    return photons\n",
    "\n",
    "four_photons = photons_cut(polar_events)\n",
    "\n",
    "# Print and save surviving events\n",
    "num_survived_four_photons = len(four_photons)\n",
    "print(f\"Number of events left in four_photons: {num_survived_four_photons}\")\n"
   ]
  },
  {
   "cell_type": "code",
   "execution_count": 11,
   "metadata": {},
   "outputs": [
    {
     "name": "stdout",
     "output_type": "stream",
     "text": [
      "Number of events left in KL crash: 15\n"
     ]
    }
   ],
   "source": [
    "### K long energy cut\n",
    "\n",
    "def KL_cut(events):\n",
    "    crash = []\n",
    "    c = 29.9792458  # speed of light in cm/ns\n",
    "    for event in events:\n",
    "        interaction_point_momentum = None\n",
    "        for row in event:\n",
    "            if row[0] == 0:\n",
    "                p_momentum = row[5:8]  # Extract interaction point momentum\n",
    "                break\n",
    "                \n",
    "        # Calculate momentum magnitude of phi\n",
    "        phi_momentum = find_distance(p_momentum) * c\n",
    "\n",
    "       # Calculate cluster speed using the momentum of the interaction point\n",
    "        for row in event:\n",
    "            if row[0] == 1:\n",
    "                cluster_energy = row[6]\n",
    "                if cluster_energy >= 150: #MeV\n",
    "                    # Calculate cluster speed\n",
    "                    cluster_momenum = 0.2 * phi_momentum\n",
    "                    cluster_speed = cluster_momenum * c / cluster_energy\n",
    "                    cluster_time = row[5]\n",
    "                    cluster_mag = find_distance(np.array(row[2:5]))\n",
    "                    delta_t = cluster_time - cluster_mag / cluster_speed\n",
    "                    if 0 <= delta_t <= 0.9:\n",
    "                        crash.append(event)\n",
    "                        break\n",
    "\n",
    "    return crash\n",
    "\n",
    "KL_crash = KL_cut(four_photons)\n",
    "\n",
    "# Print and save surviving events\n",
    "num_survived_KL_crash = len(KL_crash)\n",
    "print(f\"Number of events left in KL crash: {num_survived_KL_crash}\")"
   ]
  },
  {
   "cell_type": "markdown",
   "metadata": {},
   "source": [
    "### List of cuts\n",
    "\n",
    "| Cut Name    | Before |  After |\n",
    "| --------    | ------ | ------ |\n",
    "| Clusters    | 254327 | 168200 |\n",
    "| Energy      | 168200 | 18135  |\n",
    "| Polar Angle | 18135  | 16551  |\n",
    "|Photons      |16551   | 1781   |\n",
    "|$K_K$ Crash  |1781    | 15     |"
   ]
  },
  {
   "cell_type": "markdown",
   "metadata": {},
   "source": [
    "## $K_L \\rightarrow \\pi^+ \\pi^-$\n",
    "\n",
    "Now, 3 cuts will be made on the original events.\n",
    "\n",
    "* **Vertex and cluster:** Data with at least one vertex and one cluster will be selected.\n",
    "* **Vertex IP** A vertex very close to the interaction point is selected.\n",
    "  $$\n",
    "    |z(vxt)| < 5 \\text{ cm}\n",
    "  $$\n",
    "\n",
    "  $$\n",
    "    |R_{\\perp(vxt)}| = \\sqrt{x^2_{vxt} + y^2_{vxt}} < 4 \\text{ cm}\n",
    "  $$\n",
    "* **Kinematics** We start by selecting vertices where the sum of the momenta of two tracks, originating from the vertex, aligns with the expected momentum of the K_S. Next, we reconstruct the momentum expected for K_L in a two-body decay, allowing us to determine the beta of the K_L. Finally, we tag the K_L by examining its time of flight, ensuring that its cluster has an energy greater than 150MeV."
   ]
  },
  {
   "cell_type": "code",
   "execution_count": 12,
   "metadata": {},
   "outputs": [
    {
     "name": "stdout",
     "output_type": "stream",
     "text": [
      "Number of selected events: 195907\n"
     ]
    }
   ],
   "source": [
    "# Initialize list to store selected events\n",
    "events_clus_vxt = []\n",
    "\n",
    "# Iterate over each event in the events\n",
    "for event in events:\n",
    "    # Check if both 1 and 2 are present in the first column\n",
    "    if any(row[0] == 1 for row in event) and any(row[0] == 2 for row in event):\n",
    "        events_clus_vxt.append(event)\n",
    "\n",
    "# Print the number of selected matrices\n",
    "print(f\"Number of selected events: {len(events_clus_vxt)}\")"
   ]
  },
  {
   "cell_type": "code",
   "execution_count": 13,
   "metadata": {},
   "outputs": [
    {
     "name": "stdout",
     "output_type": "stream",
     "text": [
      "Number of events left in KL crash: 116537\n"
     ]
    }
   ],
   "source": [
    "def vxtIP(events):\n",
    "    selected_events = []\n",
    "    for event in events:\n",
    "        for row in event:\n",
    "            if row[0] == 2:\n",
    "                vertex_z = abs(row[4])  # Absolute value of z coordinate of the vertex\n",
    "                vertex_xy_magnitude = find_distance(np.array(row[2:4]))  # Magnitude of vector in xy plane\n",
    "                if -5 < vertex_z < 5 and vertex_xy_magnitude < 4:\n",
    "                    selected_events.append(event)\n",
    "                    break  # Once a vertex meets the condition, no need to check other vertices in the same matrix\n",
    "    return selected_events\n",
    "\n",
    "vxtIP_cut = vxtIP(events_clus_vxt)\n",
    "\n",
    "# Print and save surviving events\n",
    "num_survived_vxtIP_cut = len(vxtIP_cut)\n",
    "print(f\"Number of events left in KL crash: {num_survived_vxtIP_cut}\")"
   ]
  },
  {
   "cell_type": "code",
   "execution_count": 14,
   "metadata": {},
   "outputs": [
    {
     "name": "stdout",
     "output_type": "stream",
     "text": [
      "Number of events left in KL crash: 34\n",
      "Ratio charged over neutral: 2.2666666666666666\n"
     ]
    }
   ],
   "source": [
    "def Kin(events):\n",
    "    c = 29.9792458  # speed of light in cm/ns\n",
    "    K_m = 497.611\n",
    "    kinematics = []\n",
    "    for event in events:\n",
    "        # phi_momentum = np.sqrt(event[0][5]**2 + event[0][6]**2 + event[0][7]**2) * c #MeV\n",
    "        phi_momentum = find_distance(np.array(event[0][5:8])) * c #MeV\n",
    "        for row in event:\n",
    "            if row[0] == 2:\n",
    "                vtx_px = row[5] + row[8]\n",
    "                vtx_py = row[6] + row[9]\n",
    "                vtx_pz = row[7] + row [10]\n",
    "                vtx_p = [vtx_px, vtx_py, vtx_pz]\n",
    "                # Ks_p = np.sqrt( px_vtx**2 + py_vtx**2 + pz_vtx**2 )\n",
    "                Ks_p = find_distance(np.array(vtx_p))\n",
    "                \n",
    "                \n",
    "                K_E = event[0][8]/2 # sqrt(s) / 2 (2 dacay)\n",
    "                K_p = np.sqrt(K_E ** 2 - K_m ** 2) # Expected momentum of K\n",
    "                if 0 < abs(K_p - Ks_p) < 2.5:\n",
    "                    Kl_p = np.sqrt((vtx_p[0] - event[0][5]) ** 2 +\n",
    "                                   (vtx_p[1] - event[0][6]) ** 2 +\n",
    "                                   (vtx_p[2] - event[0][7]) ** 2)\n",
    "                    beta = Kl_p / np.sqrt(Kl_p ** 2 + K_m ** 2)\n",
    "                    for row1 in event:\n",
    "                        if row1[0] == 1 and row1[6] > 150:\n",
    "                            cluster_speed = Kl_p * c / row1[6]\n",
    "                            cluster_time = row1[5]\n",
    "                            cluster_mag = find_distance(np.array(row[2:5])) #cm\n",
    "                            if 0 <= cluster_time - cluster_mag / (beta * c) <= 0.9:\n",
    "                                kinematics.append(event)\n",
    "    return kinematics\n",
    "\n",
    "kine_cut = Kin(vxtIP_cut)\n",
    "\n",
    "# Print and save surviving events\n",
    "num_survived_kine_cut = len(kine_cut)\n",
    "print(f\"Number of events left in KL crash: {num_survived_kine_cut}\")\n",
    "\n",
    "print(f\"Ratio charged over neutral: {num_survived_kine_cut / num_survived_KL_crash}\")"
   ]
  },
  {
   "cell_type": "markdown",
   "metadata": {},
   "source": [
    "### List of cuts\n",
    "\n",
    "| Cut Name          | Before |  After |\n",
    "| ----------------- | ------ | ------ |\n",
    "| Min clus & vtx    | 254327 | 195907 |\n",
    "| Vertex pos        | 195907 | 116537 |         \n",
    "| Kinematics        | 116537 | 34     |\n",
    "\n",
    "From PDG\n",
    "\n",
    "* $P(\\phi \\rightarrow K_L K_S) = 0.34$\n",
    "* $P(K_S \\rightarrow \\pi^+ \\pi^-) = 0.6920$\n",
    "* $P(K_S \\rightarrow \\pi^0 \\pi^0) = 0.3069$\n",
    "\n",
    "Expected ratio\n",
    "\n",
    "$$\n",
    "    R^{\\text{TH}} = \\frac{N(K_S \\rightarrow \\pi^+ \\pi^-)}{N(K_S \\rightarrow \\pi^0 \\pi^0)} = 2.25\n",
    "$$\n",
    "\n",
    "Obtained\n",
    "\n",
    "$$\n",
    "    R^{\\text{Measured}} = \\frac{N(K_S \\rightarrow \\pi^+ \\pi^-)}{N(K_S \\rightarrow \\pi^0 \\pi^0)} = 2.27\n",
    "$$\n",
    "\n",
    "Percentage difference $0.09\\%$"
   ]
  }
 ],
 "metadata": {
  "kernelspec": {
   "display_name": "Python 3",
   "language": "python",
   "name": "python3"
  },
  "language_info": {
   "codemirror_mode": {
    "name": "ipython",
    "version": 3
   },
   "file_extension": ".py",
   "mimetype": "text/x-python",
   "name": "python",
   "nbconvert_exporter": "python",
   "pygments_lexer": "ipython3",
   "version": "3.12.6"
  }
 },
 "nbformat": 4,
 "nbformat_minor": 4
}
